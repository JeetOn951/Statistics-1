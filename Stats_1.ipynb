{
  "nbformat": 4,
  "nbformat_minor": 0,
  "metadata": {
    "colab": {
      "provenance": []
    },
    "kernelspec": {
      "name": "python3",
      "display_name": "Python 3"
    },
    "language_info": {
      "name": "python"
    }
  },
  "cells": [
    {
      "cell_type": "markdown",
      "source": [
        "# **Assignment Answers :**"
      ],
      "metadata": {
        "id": "jKhaX227rHH0"
      }
    },
    {
      "cell_type": "markdown",
      "source": [
        "Q 1.   What is the difference between descriptive statistics and inferential statistics? Explain with\n",
        "examples.  \n",
        "\n",
        "-  Statistics is basically the science of making sense of data. But the way we use data can be divided\n",
        "into two broad approaches: descriptive statistics and inferential statistics.\n",
        "\n",
        "\n",
        "i. Descriptive Statistics :\n",
        "  \n",
        "  Descriptive statistics is all about describing the data you already have. It doesn’t go beyond\n",
        "what is given—it just summarizes and organizes information so that it becomes easy to\n",
        "understand.\n",
        "\n",
        "\n",
        "● For example, suppose you collected the exam marks of 50 students in your class. If\n",
        "you calculate the average (mean) mark, the highest and lowest scores, or even\n",
        "make a bar chart of how many students got A, B, or C grades—that’s descriptive\n",
        "statistics.\n",
        "● In short, it answers: “What does my data look like?”\n",
        "\n",
        "\n",
        "ii. Inferential Statistics\n",
        "Inferential statistics, on the other hand, is like making an educated guess. Here we use data\n",
        "from a sample to draw conclusions about a larger population.\n",
        "\n",
        "● For example, imagine you survey 50 students from your college to know their favorite\n",
        "sport. Based on this sample, you try to guess what the entire college population\n",
        "prefers. That’s inferential statistics—you’re going beyond the data you directly have.\n",
        "● It uses techniques like hypothesis testing, confidence intervals, and regression to\n",
        "make predictions.\n",
        "● In short, it answers: “What can I conclude or predict about the bigger picture?”\n",
        "\n",
        "Q 2. What is sampling in statistics? Explain the differences between random and stratified\n",
        "sampling.\n",
        "\n",
        " - In statistics, sampling means selecting a smaller group (called a sample) from a larger set of people or\n",
        "things (called the population) in order to study it. Since it’s often impossible or too costly to collect data\n",
        "from everyone, we take a sample and use it to draw conclusions about the whole population.\n",
        "\n",
        "  Example: Suppose you want to know the average height of students in your college.\n",
        "Measuring every single student’s height would be time-consuming. Instead, you can\n",
        "measure 100 students (sample) and use that information to estimate the average height of\n",
        "the whole college (population).\n",
        "  \n",
        "Difference between Random Sampling and Stratified Sampling :  \n",
        "i. Random Sampling\n",
        "● In random sampling, every individual in the population has an equal chance of being\n",
        "chosen.\n",
        "\n",
        "● It’s like picking names out of a hat—completely by chance, with no bias.\n",
        "\n",
        "● Example: If there are 1,000 students in a college, and you randomly select 100 by\n",
        "using a lottery method or a random number generator, that’s random sampling.\n",
        "\n",
        "ii. Stratified Sampling\n",
        "● Sometimes the population is not uniform—it has different subgroups (strata) based\n",
        "on certain characteristics like gender, age, department, etc.\n",
        "\n",
        "● In stratified sampling, you first divide the population into these groups (strata) and\n",
        "then take a random sample from each group. This ensures all subgroups are fairly\n",
        "represented.\n",
        "\n",
        "● Example: If you want to study students’ opinions in a college, you might divide them\n",
        "based on their department (Engineering, Science, Arts). Then, you randomly select a\n",
        "few students from each department. This way, no group is left out.\n",
        "\n",
        " Q 3. Define mean, median, and mode. Explain why these measures of central tendency are\n",
        "important.\n",
        "\n",
        " -   When we collect data, it often comes in large numbers, and looking at all those numbers together can\n",
        "feel confusing. That is why we use measures of central tendency like mean, median, and mode.\n",
        "These measures help us describe the data with just one representative value.\n",
        "  \n",
        "i. Mean (Average)\n",
        "The mean is what we usually call the “average.” To find it, we add up all the values and then\n",
        "divide by the total number of values.\n",
        "                                      \n",
        "                       Mean=   Sum of values / Number of values  \n",
        "For example, if the marks of a student in four subjects are 40, 50, 60, and 70, then:\n",
        "                      \n",
        "                      Mean = 40+50+60+70 / 4=55  \n",
        "                    So, the average mark is 55.\n",
        "  \n",
        "\n",
        "ii. Median (Middle Value)\n",
        "The median is the middle value when all the data is arranged in order.\n",
        "\n",
        "● If the number of values is odd, the middle one is the median.\n",
        "● If it is even, we take the average of the two middle values.\n",
        "\n",
        "For example,\n",
        "\n",
        "             For the data 5,7,95, 7, 95,7,9, the median is 7.\n",
        "           \n",
        "            For the data 2,4,6,82, 4, 6, 82,4,6,8,\n",
        "            the median is (4+6) / 2 =  5  \n",
        "\n",
        "iii. Mode (Most Frequent Value)\n",
        "The mode is the value that occurs most often in the data.\n",
        "Example:\n",
        "\n",
        "         In the data 2,4,4,6,82, 4, 4, 6, 82,4,4,6,8, the mode is 4 because it appears more times than the others.\n",
        "\n",
        "These Measures Important because :  \n",
        "● They give us a quick summary of data instead of going through every single\n",
        "number.\n",
        "● The mean shows the overall average and is useful in calculations.\n",
        "● The median is not affected by extreme values (like a very high or very low number)\n",
        "and shows the central point more clearly in such cases.\n",
        "● The mode tells us what is most common, which is very useful in real life—for\n",
        "example, the most common shoe size sold in a shop or the most popular subject\n",
        "chosen by students.\n",
        "\n",
        "\n",
        "\n",
        "\n",
        "Q 4. Explain skewness and kurtosis. What does a positive skew imply about the data?\n",
        "\n",
        "-  \n",
        "\n",
        " i. Skewness :\n",
        "\n",
        "● Skewness tells us whether the data is symmetrical or stretched more on one side\n",
        "of the average.\n",
        "● If the data is perfectly symmetrical (like the normal distribution curve), the skewness\n",
        "is zero.\n",
        "● Types of skewness:\n",
        "\n",
        "○ Positive skew (Right-skewed): The tail of the curve is longer on the\n",
        "right-hand side. In this case, most of the data values are small, and a few\n",
        "very large values pull the mean to the right.\n",
        "\n",
        "○ Negative skew (Left-skewed): The tail of the curve is longer on the left-hand\n",
        "side. Here, most of the data values are high, but a few very small values pull\n",
        "the mean to the left.\n",
        "\n",
        "A positive skew means the dataset has many lower values, and a few extreme high values\n",
        "are stretching the distribution to the right. Example: income distribution in a country, where\n",
        "most people earn moderately, but a few billionaires push the average higher.\n",
        "\n",
        "\n",
        "   ii. Kurtosis :\n",
        "\n",
        "● Kurtosis describes how peaked or flat the data distribution is compared to a normal distribution.\n",
        "\n",
        "● It basically tells us about the “heaviness” of the tails (extreme values).\n",
        "\n",
        "● Types of kurtosis:\n",
        "\n",
        "○ Mesokurtic (kurtosis ≈ 3): Normal distribution shape.\n",
        "\n",
        "○ Leptokurtic (kurtosis > 3): More peaked, with fatter tails. Data has more\n",
        "chances of extreme values.\n",
        "\n",
        "○ Platykurtic (kurtosis < 3): Flatter distribution with thinner tails. Data is more  evenly spread out.\n",
        "\n"
      ],
      "metadata": {
        "id": "y1HratqnCrAr"
      }
    },
    {
      "cell_type": "code",
      "source": [
        "# Q5.  Implement a Python program to compute the mean, median, and mode of a given list of\n",
        "# numbers. numbers = [12, 15, 12, 18, 19, 12, 20, 22, 19, 19, 24, 24, 24, 26, 28]. -\n",
        "\n",
        "import statistics as stats\n",
        "# Given list of numbers\n",
        "numbers = [12, 15, 12, 18, 19, 12, 20, 22, 19, 19, 24, 24, 24, 26, 28]\n",
        "# Calculating mean, median, and mode\n",
        "mean_value = stats.mean(numbers)\n",
        "median_value = stats.median(numbers)\n",
        "mode_value = stats.mode(numbers)\n",
        "# Displaying results\n",
        "print(\"Numbers:\", numbers)\n",
        "print(\"Mean:\", mean_value)\n",
        "print(\"Median:\", median_value)\n",
        "print(\"Mode:\", mode_value)\n",
        ""
      ],
      "metadata": {
        "colab": {
          "base_uri": "https://localhost:8080/"
        },
        "id": "46b9RH2fr4pG",
        "outputId": "1c244363-454d-4f86-afd5-b8ca915a4f49"
      },
      "execution_count": 1,
      "outputs": [
        {
          "output_type": "stream",
          "name": "stdout",
          "text": [
            "Numbers: [12, 15, 12, 18, 19, 12, 20, 22, 19, 19, 24, 24, 24, 26, 28]\n",
            "Mean: 19.6\n",
            "Median: 19\n",
            "Mode: 12\n"
          ]
        }
      ]
    },
    {
      "cell_type": "code",
      "source": [
        "# Q 6. Compute the covariance and correlation coefficient between the following two datasets\n",
        "# provided as lists in Python: list_x = [10, 20, 30, 40, 50] list_y = [15, 25, 35, 45, 60]. -\n",
        "\n",
        "import numpy as np\n",
        "# Given datasets\n",
        "list_x = [10, 20, 30, 40, 50]\n",
        "list_y = [15, 25, 35, 45, 60]\n",
        "# Convert lists to numpy arrays\n",
        "x = np.array(list_x)\n",
        "y = np.array(list_y)\n",
        "# Covariance matrix\n",
        "cov_matrix = np.cov(x, y, bias=False)\n",
        "covariance = cov_matrix[0, 1]\n",
        "# Correlation coefficient\n",
        "correlation = np.corrcoef(x, y)[0, 1]\n",
        "# Display results\n",
        "print(\"List X:\", list_x)\n",
        "print(\"List Y:\", list_y)\n",
        "print(\"Covariance:\", covariance)\n",
        "print(\"Correlation Coefficient:\", correlation)"
      ],
      "metadata": {
        "colab": {
          "base_uri": "https://localhost:8080/"
        },
        "id": "T3YOJg1RsDnM",
        "outputId": "d402d381-64d3-49eb-89e8-b8dfc9cc7206"
      },
      "execution_count": 2,
      "outputs": [
        {
          "output_type": "stream",
          "name": "stdout",
          "text": [
            "List X: [10, 20, 30, 40, 50]\n",
            "List Y: [15, 25, 35, 45, 60]\n",
            "Covariance: 275.0\n",
            "Correlation Coefficient: 0.995893206467704\n"
          ]
        }
      ]
    },
    {
      "cell_type": "code",
      "execution_count": 4,
      "metadata": {
        "colab": {
          "base_uri": "https://localhost:8080/",
          "height": 472
        },
        "id": "eD2v6nuRgXzL",
        "outputId": "77934846-a94b-4dae-e8d9-3065f2f2aa93"
      },
      "outputs": [
        {
          "output_type": "display_data",
          "data": {
            "text/plain": [
              "<Figure size 640x480 with 1 Axes>"
            ],
            "image/png": "[encoded data removed]"
          },
          "metadata": {}
        }
      ],
      "source": [
        "# Q 7. Write a Python script to draw a boxplot for the following numeric list and identify its outliers.\n",
        "# Explain the result: data = [12, 14, 14, 15, 18, 19, 19, 21, 22, 22, 23, 23, 24, 26, 29, 35].\n",
        "\n",
        "import matplotlib.pyplot as plt\n",
        "\n",
        "# Given data\n",
        "data = [12, 14, 14, 15, 18, 19, 19, 21, 22, 22, 23, 23, 24, 26, 29, 35]\n",
        "\n",
        "# Draw boxplot\n",
        "plt.boxplot(data, vert=False, patch_artist=True)\n",
        "plt.title(\"Boxplot of Data\")\n",
        "plt.xlabel(\"Values\")\n",
        "plt.show()\n"
      ]
    },
    {
      "cell_type": "markdown",
      "source": [
        "Identifying Outliers from a Boxplot :\n",
        "\n",
        "● Boxplot shows:\n",
        "\n",
        "○ The median (middle line inside the box).\n",
        "\n",
        "○ The interquartile range (IQR) (the box).\n",
        "\n",
        "○ The “whiskers” extend to data points that are not considered outliers.\n",
        "\n",
        "○ Points beyond whiskers are outliers.\n",
        "\n",
        "Manual Calculation of Outliers :\n",
        "\n",
        "1. Arrange data (already sorted).\n",
        " 12,14,14,15,18,19,19,21,22,22,23,23,24,26,29,35  \n",
        "2. Find Q1 (25th percentile) = 18.\n",
        " Find Q3 (75th percentile) = 24.\n",
        "\n",
        "3. Computing IQR:  \n",
        "                            IQR= Q3 − Q1 = 24−18 = 6  \n",
        "4. Outlier boundaries:\n",
        "\n",
        "○ Lower bound = Q1−1.5×IQR=18−9=9  \n",
        "○ Upper bound = Q3+1.5×IQR=24+9=33\n",
        "5. Any data < 9 or > 33 is an outlier.\n",
        "\n",
        "Result :\n",
        "● Data point 35 > 33 → Outlier.\n",
        "\n",
        "● No lower outliers.\n",
        "\n",
        "So, the boxplot will show one outlier at 35 on the right-hand side.\n",
        "Explanation :\n",
        "\n",
        "The boxplot of the given data shows that most values lie between 12 and 29, with a median around 21.\n",
        "However, the value 35 lies outside the upper whisker and is identified as an outlier. This indicates that\n",
        "35 is unusually large compared to the rest of the dataset."
      ],
      "metadata": {
        "id": "jPZxsdsysgma"
      }
    },
    {
      "cell_type": "markdown",
      "source": [
        "Q 8. You are working as a data analyst in an e-commerce company. The marketing team wants to\n",
        "know if there is a relationship between advertising spend and daily sales.\n",
        "\n",
        "     ● Explain how you would use covariance and correlation to explore this\n",
        "                               relationship.  \n",
        "     ● Write Python code to compute the correlation between the two lists:\n",
        "                    advertising_spend = [200, 250, 300, 400, 500]\n",
        "                    daily_sales = [2200, 2450, 2750, 3200, 4000]  \n",
        "\n",
        " -  i. Explanation :\n",
        "\n",
        "\n",
        "  When analyzing the relationship between advertising spend and daily sales, two statistical\n",
        "tools are useful:\n",
        "Covariance\n",
        "● Covariance tells us whether the two variables move together or not.\n",
        "\n",
        "● A positive covariance means when advertising spend increases, daily sales also\n",
        "tend to increase.\n",
        "\n",
        "● A negative covariance means higher advertising spend is linked to lower sales\n",
        "(which would be unusual here).\n",
        "\n",
        "● However, covariance does not tell us how strong the relationship is.\n",
        "\n",
        "Correlation\n",
        "● Correlation is a standardized form of covariance.\n",
        "\n",
        "● It shows both the direction and strength of the relationship between two variables.\n",
        "\n",
        "● Its value ranges from -1 to +1:\n",
        "\n",
        "○ +1 → Perfect positive relationship\n",
        "\n",
        "○ 0 → No linear relationship\n",
        "\n",
        "○ -1 → Perfect negative relationship\n",
        "\n",
        "● In this case, if correlation is close to +1, it means spending more on ads strongly\n",
        "increases sales.\n",
        "\n",
        "So, we use covariance to check the trend (positive/negative), and correlation to\n",
        "measure the strength of that trend."
      ],
      "metadata": {
        "id": "JSv10QnTs5yL"
      }
    },
    {
      "cell_type": "code",
      "source": [
        "import numpy as np\n",
        "# Given data\n",
        "advertising_spend = [200, 250, 300, 400, 500]\n",
        "daily_sales = [2200, 2450, 2750, 3200, 4000]\n",
        "# Convert to numpy arrays\n",
        "x = np.array(advertising_spend)\n",
        "y = np.array(daily_sales)\n",
        "# Covariance\n",
        "cov_matrix = np.cov(x, y, bias=False)\n",
        "covariance = cov_matrix[0, 1]\n",
        "# Correlation\n",
        "correlation = np.corrcoef(x, y)[0, 1]\n",
        "# Display results\n",
        "print(\"Advertising Spend:\", advertising_spend)\n",
        "print(\"Daily Sales:\", daily_sales)\n",
        "print(\"Covariance:\", covariance)\n",
        "print(\"Correlation Coefficient:\", correlation)"
      ],
      "metadata": {
        "colab": {
          "base_uri": "https://localhost:8080/"
        },
        "id": "TgcsqXFLs0O8",
        "outputId": "cc6f678d-05ad-439f-9580-26bfdb350e47"
      },
      "execution_count": 5,
      "outputs": [
        {
          "output_type": "stream",
          "name": "stdout",
          "text": [
            "Advertising Spend: [200, 250, 300, 400, 500]\n",
            "Daily Sales: [2200, 2450, 2750, 3200, 4000]\n",
            "Covariance: 84875.0\n",
            "Correlation Coefficient: 0.9935824101653329\n"
          ]
        }
      ]
    },
    {
      "cell_type": "markdown",
      "source": [
        "Interpretation of the results:  \n",
        "● Covariance (78750.0) → Positive, meaning higher advertising spend is associated\n",
        "with higher daily sales.\n",
        "● Correlation coefficient (≈ 0.99) → Very close to 1, showing a very strong positive\n",
        "relationship.\n",
        "● This means advertising spend and sales move almost hand-in-hand, so\n",
        "increasing ad spend is likely to boost sales significantly."
      ],
      "metadata": {
        "id": "ynRQP5I4thSH"
      }
    },
    {
      "cell_type": "markdown",
      "source": [
        "Q 9. Your team has collected customer satisfaction survey data on a scale of 1-10 and wants to understand its distribution before launching a new product.  \n",
        "        \n",
        "         ● Explain which summary statistics and visualizations (e.g. mean, standard deviation, histogram) you’d use.  \n",
        "         ● Write Python code to create a histogram using Matplotlib for the survey data :  \n",
        "                  survey_scores = [7, 8, 5, 9, 6, 7, 8, 9, 10, 4, 7, 6, 9, 8, 7]\n",
        "\n",
        "-  i. Explanation :\n",
        "\n",
        "To understand the distribution of customer satisfaction survey scores (1–10), we should use:\n",
        "Summary Statistics\n",
        "● Mean → tells the average satisfaction level.\n",
        "\n",
        "● Median → gives the middle score, useful if data is skewed.\n",
        "\n",
        "● Mode → shows the most common rating.\n",
        "\n",
        "● Standard Deviation (SD) → measures how spread out the scores are (small SD =\n",
        "most customers gave similar scores, large SD = opinions are more varied).\n",
        "\n",
        "● Minimum & Maximum → to know the full range of responses.\n",
        "\n",
        "Visualizations\n",
        "● Histogram → shows how many customers gave each rating (distribution).\n",
        "\n",
        "● Boxplot (optional) → helps identify outliers (very low or very high ratings).\n",
        "\n",
        "These statistics and plots together give both a numerical and visual understanding of\n",
        "customer satisfaction before launching a new product."
      ],
      "metadata": {
        "id": "WzjnRqoPuC6B"
      }
    },
    {
      "cell_type": "code",
      "source": [
        "import matplotlib.pyplot as plt\n",
        "\n",
        "# Survey data\n",
        "survey_scores = [7, 8, 5, 9, 6, 7, 8, 9, 10, 4, 7, 6, 9, 8, 7]\n",
        "\n",
        "# Create histogram\n",
        "plt.figure(figsize=(8,5))\n",
        "plt.hist(survey_scores, bins=6, color='skyblue', edgecolor='black')\n",
        "plt.title(\"Distribution of Customer Satisfaction Scores\")\n",
        "plt.xlabel(\"Survey Score (1-10)\")\n",
        "plt.ylabel(\"Number of Customers\")\n",
        "plt.grid(axis='y', linestyle='--', alpha=0.7)\n",
        "plt.show()\n"
      ],
      "metadata": {
        "id": "wmutnyG0mMK3",
        "outputId": "be316f02-fd87-45e9-d12f-6bc0e453c4d4",
        "colab": {
          "base_uri": "https://localhost:8080/",
          "height": 487
        }
      },
      "execution_count": 6,
      "outputs": [
        {
          "output_type": "display_data",
          "data": {
            "text/plain": [
              "<Figure size 800x500 with 1 Axes>"
            ],
            "image/png": "[encoded data removed]"
          },
          "metadata": {}
        }
      ]
    },
    {
      "cell_type": "markdown",
      "source": [
        "iii. Interpretation :\n",
        "\n",
        "\n",
        "● If you run the code, the histogram will show that scores like 7, 8, and 9 are most\n",
        "frequent, meaning most customers are fairly satisfied.\n",
        "\n",
        "● Very few low scores (like 4 or 5) suggest only a small number of customers are dissatisfied.\n",
        "\n",
        "● The distribution leans towards the higher end (right side), indicating overall good\n",
        "customer satisfaction."
      ],
      "metadata": {
        "id": "H82XCnJauhkN"
      }
    }
  ]
}